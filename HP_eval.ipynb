{
 "cells": [
  {
   "cell_type": "markdown",
   "metadata": {},
   "source": [
    "For each HP, we will have qid-to-output for gp0, 1, 2, 3\n",
    "\n",
    "We first combine all of them together."
   ]
  },
  {
   "cell_type": "code",
   "execution_count": 1,
   "metadata": {},
   "outputs": [],
   "source": [
    "import pickle\n",
    "import json"
   ]
  },
  {
   "cell_type": "code",
   "execution_count": 2,
   "metadata": {},
   "outputs": [],
   "source": [
    "def evaluate_results(hp_folder):\n",
    "    full_questions_to_outputs = {}\n",
    "    for gp_id in range(4):\n",
    "        file_path = f\"okvqa_eval/{hp_folder}/qid_to_output_gp_{gp_id}.pkl\"\n",
    "        with open(file_path, \"rb\") as f:\n",
    "            outputs_i = pickle.load(f)\n",
    "            full_questions_to_outputs.update(outputs_i)\n",
    "    print(f\"len(full_questions_to_outputs.keys()): {len(full_questions_to_outputs.keys())}\")\n",
    "\n",
    "    # okvqa_annotations\n",
    "    val_annotations_path = \"dataset/okvqa_annotations/mscoco_val2014_annotations.json\"\n",
    "    with open(val_annotations_path) as json_file:\n",
    "        val_annotations = json.load(json_file)\n",
    "    # print(f\"Keys: {val_annotations.keys()}\")\n",
    "    # print(f\"['question_types']['one']: {val_annotations['question_types']['one']}\")\n",
    "    # print(f\"Num annotations: {len(val_annotations['annotations'])}\")\n",
    "    # print(f\"annotation[0]: {val_annotations['annotations'][0]}\")\n",
    "\n",
    "    def post_process_output(output):\n",
    "        # Get rid of `</s>` and lowercap the output\n",
    "        #eos_id = output.find(\"</s>\")\n",
    "        return output.lower()\n",
    "    \n",
    "    total_scores = 0\n",
    "    total_tests = 0\n",
    "    for annotation in val_annotations[\"annotations\"]:\n",
    "        question_id = annotation[\"question_id\"]\n",
    "        if question_id not in full_questions_to_outputs.keys():\n",
    "            continue\n",
    "        llava_output = full_questions_to_outputs[question_id]\n",
    "        llava_output = post_process_output(llava_output)\n",
    "        score = 0\n",
    "        for answer in annotation['answers']:\n",
    "            if llava_output == answer['answer']:\n",
    "                score += 1\n",
    "        total_scores += min (score / 3.0, 1)\n",
    "        total_tests += 1\n",
    "    assert total_tests == len(full_questions_to_outputs.keys())\n",
    "\n",
    "    print(f\"total_scores: {total_scores}\")\n",
    "    print(f\"total_tests: {total_tests}\")\n",
    "    print(f\"acc: {total_scores / total_tests}\")"
   ]
  },
  {
   "cell_type": "code",
   "execution_count": null,
   "metadata": {},
   "outputs": [],
   "source": []
  },
  {
   "cell_type": "markdown",
   "metadata": {},
   "source": [
    "### Tuning learning rates"
   ]
  },
  {
   "cell_type": "code",
   "execution_count": 9,
   "metadata": {},
   "outputs": [
    {
     "name": "stdout",
     "output_type": "stream",
     "text": [
      "len(full_questions_to_outputs.keys()): 5046\n",
      "total_scores: 2938.333333333319\n",
      "total_tests: 5046\n",
      "acc: 0.5823094200026395\n"
     ]
    }
   ],
   "source": [
    "evaluate_results(\"hp_epoch_1_lr_2e-5\")"
   ]
  },
  {
   "cell_type": "code",
   "execution_count": 10,
   "metadata": {},
   "outputs": [
    {
     "name": "stdout",
     "output_type": "stream",
     "text": [
      "len(full_questions_to_outputs.keys()): 5046\n",
      "total_scores: 2781.999999999987\n",
      "total_tests: 5046\n",
      "acc: 0.5513277843836676\n"
     ]
    }
   ],
   "source": [
    "evaluate_results(\"hp_epoch_1_lr_5e-5\")"
   ]
  },
  {
   "cell_type": "code",
   "execution_count": 11,
   "metadata": {},
   "outputs": [
    {
     "name": "stdout",
     "output_type": "stream",
     "text": [
      "len(full_questions_to_outputs.keys()): 5046\n",
      "total_scores: 2289.000000000007\n",
      "total_tests: 5046\n",
      "acc: 0.45362663495838423\n"
     ]
    }
   ],
   "source": [
    "evaluate_results(\"hp_epoch_1_lr_1e-4\")"
   ]
  },
  {
   "cell_type": "code",
   "execution_count": 12,
   "metadata": {},
   "outputs": [
    {
     "name": "stdout",
     "output_type": "stream",
     "text": [
      "len(full_questions_to_outputs.keys()): 5046\n",
      "total_scores: 2.6666666666666665\n",
      "total_tests: 5046\n",
      "acc: 0.0005284713964856651\n"
     ]
    }
   ],
   "source": [
    "evaluate_results(\"hp_epoch_1_lr_5e-4\")"
   ]
  },
  {
   "cell_type": "markdown",
   "metadata": {},
   "source": [
    "### Tuning epoch"
   ]
  },
  {
   "cell_type": "code",
   "execution_count": 5,
   "metadata": {},
   "outputs": [
    {
     "name": "stdout",
     "output_type": "stream",
     "text": [
      "len(full_questions_to_outputs.keys()): 5046\n",
      "total_scores: 2391.6666666666683\n",
      "total_tests: 5046\n",
      "acc: 0.4739727837230813\n"
     ]
    }
   ],
   "source": [
    "evaluate_results(\"hp_epoch_2_lr_1e-4\")"
   ]
  },
  {
   "cell_type": "code",
   "execution_count": 7,
   "metadata": {},
   "outputs": [
    {
     "name": "stdout",
     "output_type": "stream",
     "text": [
      "len(full_questions_to_outputs.keys()): 5046\n",
      "total_scores: 2996.6666666666483\n",
      "total_tests: 5046\n",
      "acc: 0.5938697318007626\n"
     ]
    }
   ],
   "source": [
    "evaluate_results(\"hp_epoch_2_lr_2e-5\")"
   ]
  },
  {
   "cell_type": "markdown",
   "metadata": {},
   "source": [
    "### Tuning number of entries"
   ]
  },
  {
   "cell_type": "code",
   "execution_count": 6,
   "metadata": {},
   "outputs": [
    {
     "name": "stdout",
     "output_type": "stream",
     "text": [
      "len(full_questions_to_outputs.keys()): 5046\n",
      "total_scores: 2938.333333333319\n",
      "total_tests: 5046\n",
      "acc: 0.5823094200026395\n"
     ]
    }
   ],
   "source": [
    "# 10 entries\n",
    "evaluate_results(\"hp_epoch_1_lr_2e-5\")"
   ]
  },
  {
   "cell_type": "code",
   "execution_count": 7,
   "metadata": {},
   "outputs": [
    {
     "name": "stdout",
     "output_type": "stream",
     "text": [
      "len(full_questions_to_outputs.keys()): 5046\n",
      "total_scores: 2937.3333333333185\n",
      "total_tests: 5046\n",
      "acc: 0.5821112432289572\n"
     ]
    }
   ],
   "source": [
    "evaluate_results(\"hp_5_entries\")"
   ]
  },
  {
   "cell_type": "code",
   "execution_count": 39,
   "metadata": {},
   "outputs": [
    {
     "name": "stdout",
     "output_type": "stream",
     "text": [
      "len(full_questions_to_outputs.keys()): 5046\n",
      "total_scores: 2930.999999999985\n",
      "total_tests: 5046\n",
      "acc: 0.5808561236623038\n"
     ]
    }
   ],
   "source": [
    "evaluate_results(\"hp_0_entry\")"
   ]
  },
  {
   "cell_type": "markdown",
   "metadata": {},
   "source": [
    "### Other grouping of categories"
   ]
  },
  {
   "cell_type": "code",
   "execution_count": 13,
   "metadata": {},
   "outputs": [],
   "source": [
    "# Number of training data for each category"
   ]
  },
  {
   "cell_type": "code",
   "execution_count": 17,
   "metadata": {},
   "outputs": [
    {
     "name": "stdout",
     "output_type": "stream",
     "text": [
      "Keys: dict_keys(['license', 'data_subtype', 'question_types', 'annotations', 'info', 'data_type'])\n",
      "['question_types']['one']: Vehicles and Transportation\n",
      "Num annotations: 9009\n",
      "annotation[0]: {'image_id': 51606, 'answer_type': 'other', 'question_type': 'four', 'question_id': 516065, 'answers': [{'answer_id': 1, 'raw_answer': 'pony tail', 'answer_confidence': 'yes', 'answer': 'pony tail'}, {'answer_id': 2, 'raw_answer': 'pony tail', 'answer_confidence': 'yes', 'answer': 'pony tail'}, {'answer_id': 3, 'raw_answer': 'pony tail', 'answer_confidence': 'yes', 'answer': 'pony tail'}, {'answer_id': 4, 'raw_answer': 'pony tail', 'answer_confidence': 'yes', 'answer': 'pony tail'}, {'answer_id': 5, 'raw_answer': 'pony tail', 'answer_confidence': 'yes', 'answer': 'pony tail'}, {'answer_id': 6, 'raw_answer': 'pony tail', 'answer_confidence': 'yes', 'answer': 'pony tail'}, {'answer_id': 7, 'raw_answer': 'braid', 'answer_confidence': 'yes', 'answer': 'braid'}, {'answer_id': 8, 'raw_answer': 'braid', 'answer_confidence': 'yes', 'answer': 'braid'}, {'answer_id': 9, 'raw_answer': 'ponytail', 'answer_confidence': 'yes', 'answer': 'ponytail'}, {'answer_id': 10, 'raw_answer': 'ponytail', 'answer_confidence': 'yes', 'answer': 'ponytail'}], 'confidence': 3}\n"
     ]
    }
   ],
   "source": [
    "train_annotations_path = \"dataset/okvqa_annotations/mscoco_train2014_annotations.json\"\n",
    "with open(train_annotations_path) as json_file:\n",
    "    train_annotations = json.load(json_file)\n",
    "print(f\"Keys: {train_annotations.keys()}\")\n",
    "print(f\"['question_types']['one']: {train_annotations['question_types']['one']}\")\n",
    "print(f\"Num annotations: {len(train_annotations['annotations'])}\")\n",
    "print(f\"annotation[0]: {train_annotations['annotations'][0]}\")"
   ]
  },
  {
   "cell_type": "code",
   "execution_count": 24,
   "metadata": {},
   "outputs": [
    {
     "name": "stdout",
     "output_type": "stream",
     "text": [
      "eight - Plants and Animals: 1476\n",
      "nine - Science and Technology: 153\n",
      "four - Sports and Recreation: 1184\n",
      "six - Geography, History, Language and Culture: 310\n",
      "two - Brands, Companies and Products: 299\n",
      "other - Other: 1056\n",
      "one - Vehicles and Transportation: 1423\n",
      "five - Cooking and Food: 1368\n",
      "ten - Weather and Climate: 229\n",
      "seven - People and Everyday life: 794\n",
      "three - Objects, Material and Clothing: 717\n",
      "Total: 9009\n"
     ]
    }
   ],
   "source": [
    "# type of question to the number of it\n",
    "qtype_to_qnum = dict()\n",
    "for qtype in train_annotations['question_types'].keys():\n",
    "    qtype_to_qnum[qtype] = 0\n",
    "\n",
    "for annotation in train_annotations['annotations']:\n",
    "    qtype = annotation[\"question_type\"]\n",
    "    qtype_to_qnum[qtype] += 1\n",
    "\n",
    "totalNum = 0\n",
    "for qtype, num in qtype_to_qnum.items():\n",
    "    print(f\"{qtype} - {train_annotations['question_types'][qtype]}: {num}\")\n",
    "    totalNum += num\n",
    "\n",
    "assert totalNum == len(train_annotations['annotations'])\n",
    "print(f\"Total: {totalNum}\")"
   ]
  },
  {
   "cell_type": "code",
   "execution_count": null,
   "metadata": {},
   "outputs": [],
   "source": []
  }
 ],
 "metadata": {
  "kernelspec": {
   "display_name": "moellava",
   "language": "python",
   "name": "python3"
  },
  "language_info": {
   "codemirror_mode": {
    "name": "ipython",
    "version": 3
   },
   "file_extension": ".py",
   "mimetype": "text/x-python",
   "name": "python",
   "nbconvert_exporter": "python",
   "pygments_lexer": "ipython3",
   "version": "3.10.14"
  }
 },
 "nbformat": 4,
 "nbformat_minor": 2
}
