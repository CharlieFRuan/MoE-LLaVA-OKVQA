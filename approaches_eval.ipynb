{
 "cells": [
  {
   "cell_type": "code",
   "execution_count": 4,
   "metadata": {},
   "outputs": [],
   "source": [
    "import pickle\n",
    "import json"
   ]
  },
  {
   "cell_type": "markdown",
   "metadata": {},
   "source": [
    "### Evaluate approach 1"
   ]
  },
  {
   "cell_type": "code",
   "execution_count": 22,
   "metadata": {},
   "outputs": [],
   "source": [
    "def evaluate_results(hp_folder):\n",
    "    full_questions_to_outputs = {}\n",
    "    for gp_id in range(4):\n",
    "        file_path = f\"okvqa_eval/{hp_folder}/qid_to_output_gp_{gp_id}.pkl\"\n",
    "        with open(file_path, \"rb\") as f:\n",
    "            outputs_i = pickle.load(f)\n",
    "            full_questions_to_outputs.update(outputs_i)\n",
    "    print(f\"len(full_questions_to_outputs.keys()): {len(full_questions_to_outputs.keys())}\")\n",
    "\n",
    "    # okvqa_annotations\n",
    "    val_annotations_path = \"dataset/okvqa_annotations/mscoco_val2014_annotations.json\"\n",
    "    with open(val_annotations_path) as json_file:\n",
    "        val_annotations = json.load(json_file)\n",
    "\n",
    "    def post_process_output(output):\n",
    "        # Get rid of `</s>` and lowercap the output\n",
    "        #eos_id = output.find(\"</s>\")\n",
    "        return output.lower()\n",
    "    \n",
    "    total_scores = 0\n",
    "    total_tests = 0\n",
    "    for annotation in val_annotations[\"annotations\"]:\n",
    "        question_id = annotation[\"question_id\"]\n",
    "        if question_id not in full_questions_to_outputs.keys():\n",
    "            continue\n",
    "        llava_output = full_questions_to_outputs[question_id]\n",
    "        llava_output = post_process_output(llava_output)\n",
    "        score = 0\n",
    "        for answer in annotation['answers']:\n",
    "            if llava_output == answer['answer']:\n",
    "                score += 1\n",
    "        total_scores += min (score / 3.0, 1)\n",
    "        total_tests += 1\n",
    "    assert total_tests == len(full_questions_to_outputs.keys()) == 5046\n",
    "\n",
    "    print(f\"total_scores: {total_scores}\")\n",
    "    print(f\"total_tests: {total_tests}\")\n",
    "    print(f\"acc: {total_scores / total_tests}\")"
   ]
  },
  {
   "cell_type": "code",
   "execution_count": 23,
   "metadata": {},
   "outputs": [
    {
     "name": "stdout",
     "output_type": "stream",
     "text": [
      "len(full_questions_to_outputs.keys()): 5046\n",
      "total_scores: 2938.333333333319\n",
      "total_tests: 5046\n",
      "acc: 0.5823094200026395\n"
     ]
    }
   ],
   "source": [
    "evaluate_results(\"classifier_grouped\")"
   ]
  },
  {
   "cell_type": "code",
   "execution_count": 24,
   "metadata": {},
   "outputs": [
    {
     "name": "stdout",
     "output_type": "stream",
     "text": [
      "len(full_questions_to_outputs.keys()): 5046\n",
      "total_scores: 2943.9999999999854\n",
      "total_tests: 5046\n",
      "acc: 0.5834324217201715\n"
     ]
    }
   ],
   "source": [
    "evaluate_results(\"ground_truth_grouped\")"
   ]
  },
  {
   "cell_type": "markdown",
   "metadata": {},
   "source": [
    "### Evaluate approach 2"
   ]
  },
  {
   "cell_type": "code",
   "execution_count": 8,
   "metadata": {},
   "outputs": [],
   "source": [
    "def evaluate_results(hp_folder):\n",
    "    full_questions_to_outputs = {}\n",
    "    for gp_id in range(3):\n",
    "        file_path = f\"okvqa_eval/{hp_folder}/qid_to_output_gp_{gp_id}.pkl\"\n",
    "        with open(file_path, \"rb\") as f:\n",
    "            outputs_i = pickle.load(f)\n",
    "            full_questions_to_outputs.update(outputs_i)\n",
    "    print(f\"len(full_questions_to_outputs.keys()): {len(full_questions_to_outputs.keys())}\")\n",
    "\n",
    "    # okvqa_annotations\n",
    "    val_annotations_path = \"dataset/okvqa_annotations/mscoco_val2014_annotations.json\"\n",
    "    with open(val_annotations_path) as json_file:\n",
    "        val_annotations = json.load(json_file)\n",
    "\n",
    "    def post_process_output(output):\n",
    "        # Get rid of `</s>` and lowercap the output\n",
    "        #eos_id = output.find(\"</s>\")\n",
    "        return output.lower()\n",
    "    \n",
    "    total_scores = 0\n",
    "    total_tests = 0\n",
    "    for annotation in val_annotations[\"annotations\"]:\n",
    "        question_id = annotation[\"question_id\"]\n",
    "        if question_id not in full_questions_to_outputs.keys():\n",
    "            continue\n",
    "        llava_output = full_questions_to_outputs[question_id]\n",
    "        llava_output = post_process_output(llava_output)\n",
    "        score = 0\n",
    "        for answer in annotation['answers']:\n",
    "            if llava_output == answer['answer']:\n",
    "                score += 1\n",
    "        total_scores += min (score / 3.0, 1)\n",
    "        total_tests += 1\n",
    "    assert total_tests == len(full_questions_to_outputs.keys()) == 5046\n",
    "\n",
    "    print(f\"total_scores: {total_scores}\")\n",
    "    print(f\"total_tests: {total_tests}\")\n",
    "    print(f\"acc: {total_scores / total_tests}\")"
   ]
  },
  {
   "cell_type": "code",
   "execution_count": 13,
   "metadata": {},
   "outputs": [],
   "source": [
    "def combine_outputs(gp_id, cls):\n",
    "    if cls:\n",
    "        EVAL_FOLDER = \"approach_2_cls\"\n",
    "        if gp_id == 0:\n",
    "            num_files = 22\n",
    "        if gp_id == 1:\n",
    "            num_files = 16\n",
    "        if gp_id == 2:\n",
    "            num_files = 14\n",
    "    else:\n",
    "        EVAL_FOLDER = \"approach_2_ground_truth\"\n",
    "        if gp_id == 0:\n",
    "            num_files = 18\n",
    "        if gp_id == 1:\n",
    "            num_files = 20\n",
    "        if gp_id == 2:\n",
    "            num_files = 13\n",
    "\n",
    "    questions_to_outputs = {}\n",
    "    for i in range(num_files):\n",
    "        with open(f\"okvqa_eval/{EVAL_FOLDER}/gp{gp_id}_outputs/saved_outputs_{i}.pkl\", \"rb\") as f:\n",
    "            outputs_i = pickle.load(f)\n",
    "            questions_to_outputs.update(outputs_i)\n",
    "    output_path = f\"okvqa_eval/{EVAL_FOLDER}/qid_to_output_gp_{gp_id}.pkl\"\n",
    "    with open(output_path, 'wb') as f:\n",
    "        pickle.dump(questions_to_outputs, f)"
   ]
  },
  {
   "cell_type": "code",
   "execution_count": 3,
   "metadata": {},
   "outputs": [],
   "source": [
    "# Approach 2 cls routed\n",
    "# combine_outputs(0, True)\n",
    "# combine_outputs(1, True)\n",
    "# combine_outputs(2, True)"
   ]
  },
  {
   "cell_type": "code",
   "execution_count": 9,
   "metadata": {},
   "outputs": [
    {
     "name": "stdout",
     "output_type": "stream",
     "text": [
      "len(full_questions_to_outputs.keys()): 5046\n",
      "total_scores: 2975.666666666651\n",
      "total_tests: 5046\n",
      "acc: 0.5897080195534385\n"
     ]
    }
   ],
   "source": [
    "evaluate_results(\"approach_2_cls\")"
   ]
  },
  {
   "cell_type": "code",
   "execution_count": 14,
   "metadata": {},
   "outputs": [],
   "source": [
    "# Approach 2 ground truth routed\n",
    "# combine_outputs(0, False)\n",
    "# combine_outputs(1, False)\n",
    "# combine_outputs(2, False)"
   ]
  },
  {
   "cell_type": "code",
   "execution_count": 15,
   "metadata": {},
   "outputs": [
    {
     "name": "stdout",
     "output_type": "stream",
     "text": [
      "len(full_questions_to_outputs.keys()): 5046\n",
      "total_scores: 2973.333333333318\n",
      "total_tests: 5046\n",
      "acc: 0.5892456070815136\n"
     ]
    }
   ],
   "source": [
    "evaluate_results(\"approach_2_ground_truth\")"
   ]
  },
  {
   "cell_type": "markdown",
   "metadata": {},
   "source": [
    "### Evaluate approach 3"
   ]
  },
  {
   "cell_type": "code",
   "execution_count": 16,
   "metadata": {},
   "outputs": [],
   "source": [
    "def evaluate_results(hp_folder):\n",
    "    full_questions_to_outputs = {}\n",
    "    for gp_id in range(2):\n",
    "        file_path = f\"okvqa_eval/{hp_folder}/qid_to_output_gp_{gp_id}.pkl\"\n",
    "        with open(file_path, \"rb\") as f:\n",
    "            outputs_i = pickle.load(f)\n",
    "            full_questions_to_outputs.update(outputs_i)\n",
    "    print(f\"len(full_questions_to_outputs.keys()): {len(full_questions_to_outputs.keys())}\")\n",
    "\n",
    "    # okvqa_annotations\n",
    "    val_annotations_path = \"dataset/okvqa_annotations/mscoco_val2014_annotations.json\"\n",
    "    with open(val_annotations_path) as json_file:\n",
    "        val_annotations = json.load(json_file)\n",
    "\n",
    "    def post_process_output(output):\n",
    "        # Get rid of `</s>` and lowercap the output\n",
    "        #eos_id = output.find(\"</s>\")\n",
    "        return output.lower()\n",
    "    \n",
    "    total_scores = 0\n",
    "    total_tests = 0\n",
    "    for annotation in val_annotations[\"annotations\"]:\n",
    "        question_id = annotation[\"question_id\"]\n",
    "        if question_id not in full_questions_to_outputs.keys():\n",
    "            continue\n",
    "        llava_output = full_questions_to_outputs[question_id]\n",
    "        llava_output = post_process_output(llava_output)\n",
    "        score = 0\n",
    "        for answer in annotation['answers']:\n",
    "            if llava_output == answer['answer']:\n",
    "                score += 1\n",
    "        total_scores += min (score / 3.0, 1)\n",
    "        total_tests += 1\n",
    "    assert total_tests == len(full_questions_to_outputs.keys()) == 5046\n",
    "\n",
    "    print(f\"total_scores: {total_scores}\")\n",
    "    print(f\"total_tests: {total_tests}\")\n",
    "    print(f\"acc: {total_scores / total_tests}\")"
   ]
  },
  {
   "cell_type": "code",
   "execution_count": 17,
   "metadata": {},
   "outputs": [],
   "source": [
    "def combine_outputs(gp_id, cls):\n",
    "    if cls:\n",
    "        EVAL_FOLDER = \"approach_3_cls\"\n",
    "        if gp_id == 0:\n",
    "            num_files = 19\n",
    "        if gp_id == 1:\n",
    "            num_files = 32\n",
    "    else:\n",
    "        EVAL_FOLDER = \"approach_3_ground_truth\"\n",
    "        if gp_id == 0:\n",
    "            num_files = 24\n",
    "        if gp_id == 1:\n",
    "            num_files = 28\n",
    "\n",
    "    questions_to_outputs = {}\n",
    "    for i in range(num_files):\n",
    "        with open(f\"okvqa_eval/{EVAL_FOLDER}/gp{gp_id}_outputs/saved_outputs_{i}.pkl\", \"rb\") as f:\n",
    "            outputs_i = pickle.load(f)\n",
    "            questions_to_outputs.update(outputs_i)\n",
    "    output_path = f\"okvqa_eval/{EVAL_FOLDER}/qid_to_output_gp_{gp_id}.pkl\"\n",
    "    with open(output_path, 'wb') as f:\n",
    "        pickle.dump(questions_to_outputs, f)"
   ]
  },
  {
   "cell_type": "code",
   "execution_count": 18,
   "metadata": {},
   "outputs": [],
   "source": [
    "# Approach 3 cls routed\n",
    "# combine_outputs(0, True)\n",
    "# combine_outputs(1, True)"
   ]
  },
  {
   "cell_type": "code",
   "execution_count": 19,
   "metadata": {},
   "outputs": [
    {
     "name": "stdout",
     "output_type": "stream",
     "text": [
      "len(full_questions_to_outputs.keys()): 5046\n",
      "total_scores: 2965.6666666666506\n",
      "total_tests: 5046\n",
      "acc: 0.5877262518166172\n"
     ]
    }
   ],
   "source": [
    "evaluate_results(\"approach_3_cls\")"
   ]
  },
  {
   "cell_type": "code",
   "execution_count": 20,
   "metadata": {},
   "outputs": [],
   "source": [
    "# Approach 3 cls routed\n",
    "combine_outputs(0, False)\n",
    "combine_outputs(1, False)"
   ]
  },
  {
   "cell_type": "code",
   "execution_count": 21,
   "metadata": {},
   "outputs": [
    {
     "name": "stdout",
     "output_type": "stream",
     "text": [
      "len(full_questions_to_outputs.keys()): 5046\n",
      "total_scores: 2974.6666666666506\n",
      "total_tests: 5046\n",
      "acc: 0.5895098427797564\n"
     ]
    }
   ],
   "source": [
    "evaluate_results(\"approach_3_ground_truth\")"
   ]
  },
  {
   "cell_type": "code",
   "execution_count": null,
   "metadata": {},
   "outputs": [],
   "source": []
  }
 ],
 "metadata": {
  "kernelspec": {
   "display_name": "moellava",
   "language": "python",
   "name": "python3"
  },
  "language_info": {
   "codemirror_mode": {
    "name": "ipython",
    "version": 3
   },
   "file_extension": ".py",
   "mimetype": "text/x-python",
   "name": "python",
   "nbconvert_exporter": "python",
   "pygments_lexer": "ipython3",
   "version": "3.10.14"
  }
 },
 "nbformat": 4,
 "nbformat_minor": 2
}
